{
  "nbformat": 4,
  "nbformat_minor": 0,
  "metadata": {
    "colab": {
      "provenance": [],
      "include_colab_link": true
    },
    "kernelspec": {
      "name": "python3",
      "display_name": "Python 3"
    },
    "language_info": {
      "name": "python"
    }
  },
  "cells": [
    {
      "cell_type": "markdown",
      "metadata": {
        "id": "view-in-github",
        "colab_type": "text"
      },
      "source": [
        "<a href=\"https://colab.research.google.com/github/FazleAkbar110/FDA_26420/blob/main/FA_Solutions_22_02_Exercises_FDA.ipynb\" target=\"_parent\"><img src=\"https://colab.research.google.com/assets/colab-badge.svg\" alt=\"Open In Colab\"/></a>"
      ]
    },
    {
      "cell_type": "code",
      "execution_count": 1,
      "metadata": {
        "id": "ZEIixtA6a4nN",
        "colab": {
          "base_uri": "https://localhost:8080/"
        },
        "outputId": "b3d9f91f-1cb3-477d-f159-1f71474adda6"
      },
      "outputs": [
        {
          "output_type": "stream",
          "name": "stdout",
          "text": [
            "Enter your name: Akbar\n",
            "Hello, Akbar\n"
          ]
        }
      ],
      "source": [
        "# Basic Input/Output\n",
        "name = input(\"Enter your name: \")  # Takes input from the user and stores it in the 'name' variable\n",
        "print(\"Hello, \" + name)  # Greets the user by name"
      ]
    },
    {
      "cell_type": "markdown",
      "source": [
        "Exercise # 1 Basic Variables and Data Types"
      ],
      "metadata": {
        "id": "AF3yTs9DbDfw"
      }
    },
    {
      "cell_type": "code",
      "source": [
        "# Step 1: Create variables\n",
        "hobby = input(\"Enter your hobby: \") # Replace with your favorite hobby\n",
        "countries_visited = int(input(\"Enter the number of countries visited: \"))  # Replace with the number of countries you've visited\n",
        "distance_to_school = float(input(\"Enter the distance from home to school in KM: \"))  # Replace with the distance from your home to school in kilometers\n",
        "\n",
        "# Step 2: Complete the print statements below #print above define variables\n",
        "print(\"My favorite hobby is\", hobby)\n",
        "print(\"I have visited\", countries_visited, \"countries.\")\n",
        "print(\"The distance from my home to school is\", distance_to_school, \"KM.\")\n",
        "\n"
      ],
      "metadata": {
        "id": "sLX8heU7bD48",
        "colab": {
          "base_uri": "https://localhost:8080/"
        },
        "outputId": "05dad986-7060-4654-8397-9daf4a8f303f"
      },
      "execution_count": 2,
      "outputs": [
        {
          "output_type": "stream",
          "name": "stdout",
          "text": [
            "Enter your hobby: Reading\n",
            "Enter the number of countries visited: 12\n",
            "Enter the distance from home to school in KM: 7.8\n",
            "My favorite hobby is Reading\n",
            "I have visited 12 countries.\n",
            "The distance from my home to school is 7.8 KM.\n"
          ]
        }
      ]
    },
    {
      "cell_type": "markdown",
      "source": [
        "Solution Exercise # 1"
      ],
      "metadata": {
        "id": "ox9PrZI9bFz8"
      }
    },
    {
      "cell_type": "code",
      "source": [
        "# Step 1: Create variables\n",
        "hobby = \"Reading\"  # Replace with your favorite hobby\n",
        "countries_visited = 12  # Replace with the number of countries you've visited\n",
        "distance_to_school = 7.5  # Replace with the distance from your home to school in kilometers\n",
        "\n",
        "# Step 2: Complete the print statements below #print above define variables\n",
        "print(\"My favorite hobby is\", hobby)\n",
        "print(\"I have visited\", countries_visited, \"countries.\")\n",
        "print(\"The distance from my home to school is\", distance_to_school, \"KM.\")"
      ],
      "metadata": {
        "id": "rVPq97HpbFjB",
        "colab": {
          "base_uri": "https://localhost:8080/"
        },
        "outputId": "a149471c-e898-4dd9-d05b-033c51ff2b36"
      },
      "execution_count": null,
      "outputs": [
        {
          "output_type": "stream",
          "name": "stdout",
          "text": [
            "My favorite hobby is Reading\n",
            "I have visited 12 countries.\n",
            "The distance from my home to school is 7.5 KM.\n"
          ]
        }
      ]
    },
    {
      "cell_type": "code",
      "source": [
        "Exercise 2: Basic Arithmetic Operations\n",
        "\n"
      ],
      "metadata": {
        "id": "H4HR73OxbKsB"
      },
      "execution_count": null,
      "outputs": []
    },
    {
      "cell_type": "code",
      "source": [
        "# Define two numbers\n",
        "num1 = int(input(\"Enter a number > 10: \"))  # First number\n",
        "num2 = int(input(\"Enter a number < 10: \"))  # Second number\n",
        "\n",
        "# Perform arithmetic operations\n",
        "sum = num1 + num2                    # Calculate the sum of num1 and num2\n",
        "difference =  num1 - num2             # Calculate the difference between num1 and num2\n",
        "product = num1 * num2                # Calculate the product of num1 and num2\n",
        "quotient = num1 / num2               # Calculate the quotient of num1 divided by num2\n",
        "\n",
        "# Print the results\n",
        "print(\"Sum:\", sum)  # Print the sum\n",
        "print(\"Difference:\", difference)  # Print the difference\n",
        "print(\"Product:\", product)  # Print the product\n",
        "print(\"Quotient:\", quotient)  # Print the quotient\n"
      ],
      "metadata": {
        "id": "7dCGy3DfbOU0",
        "colab": {
          "base_uri": "https://localhost:8080/"
        },
        "outputId": "b8f2ed61-c600-4ebc-a244-45ad10976956"
      },
      "execution_count": 7,
      "outputs": [
        {
          "output_type": "stream",
          "name": "stdout",
          "text": [
            "Enter a number > 10: 20\n",
            "Enter a number < 10: 10\n",
            "Sum: 30\n",
            "Difference: 10\n",
            "Product: 200\n",
            "Quotient: 2.0\n"
          ]
        }
      ]
    },
    {
      "cell_type": "markdown",
      "source": [
        "Solution Exercise # 2"
      ],
      "metadata": {
        "id": "6M_fctAwbQS3"
      }
    },
    {
      "cell_type": "code",
      "source": [
        "# Define two numbers\n",
        "num1 = 8  # First number\n",
        "num2 = 4  # Second number\n",
        "\n",
        "# Perform arithmetic operations\n",
        "sum = num1 + num2                    # Calculate the sum of num1 and num2\n",
        "difference = num1 - num2              # Calculate the difference between num1 and num2\n",
        "product = num1 * num2                # Calculate the product of num1 and num2\n",
        "quotient = num1 / num2                # Calculate the quotient of num1 divided by num2\n",
        "\n",
        "# Print the results\n",
        "print(\"Sum:\", sum)  # Print the sum\n",
        "print(\"Difference:\", difference)  # Print the difference\n",
        "print(\"Product:\", product)  # Print the product\n",
        "print(\"Quotient:\", quotient)  # Print the quotient"
      ],
      "metadata": {
        "id": "hgOF1uhobSQA",
        "colab": {
          "base_uri": "https://localhost:8080/"
        },
        "outputId": "6dcc071c-3655-49dd-c3c8-4e6e2d753dc0"
      },
      "execution_count": null,
      "outputs": [
        {
          "output_type": "stream",
          "name": "stdout",
          "text": [
            "Sum: 12\n",
            "Difference: 4\n",
            "Product: 32\n",
            "Quotient: 2.0\n"
          ]
        }
      ]
    },
    {
      "cell_type": "markdown",
      "source": [
        "Exercise # 3"
      ],
      "metadata": {
        "id": "n58MsJoLbTeK"
      }
    },
    {
      "cell_type": "code",
      "source": [
        "# Define two numbers\n",
        "num1 = 10  # Assign the value 10 to the variable 'num1'\n",
        "num2 = 5   # Assign the value 5 to the variable 'num2'\n",
        "\n",
        "# Perform comparison operations\n",
        "is_equal = (num1 == num2)  # Check if num1 is equal to num2\n",
        "is_not_equal = (num1 != num2)  # Check if num1 is not equal to num2\n",
        "is_greater = (num1 > num2)  # Check if num1 is greater than num2\n",
        "is_less = (num1 < num2)  # Check if num1 is less than num2\n",
        "is_greater_or_equal = (num1 >= num2)  # Check if num1 is greater than or equal to num2\n",
        "is_less_or_equal = (num1 <= num2)  # Check if num1 is less than or equal to num2\n",
        "\n",
        "# Print the results\n",
        "print(\"Is Equal:\", is_equal)  # Display if num1 is equal to num2\n",
        "print(\"Is Not Equal:\", is_not_equal)  # Display if num1 is not equal to num2\n",
        "print(\"Is Greater:\", is_greater)  # Display if num1 is greater than num2\n",
        "print(\"Is Less:\", is_less)  # Display if num1 is less than num2\n",
        "print(\"Is Greater or Equal:\", is_greater_or_equal)  # Display if num1 is greater than or equal to num2\n",
        "print(\"Is Less or Equal:\", is_less_or_equal)  # Display if num1 is less than or equal to num2\n"
      ],
      "metadata": {
        "id": "N0__tghRbWPM",
        "colab": {
          "base_uri": "https://localhost:8080/"
        },
        "outputId": "2fc47835-f5c7-45ff-8982-7915eb2751ad"
      },
      "execution_count": null,
      "outputs": [
        {
          "output_type": "stream",
          "name": "stdout",
          "text": [
            "Is Equal: False\n",
            "Is Not Equal: True\n",
            "Is Greater: True\n",
            "Is Less: False\n",
            "Is Greater or Equal: True\n",
            "Is Less or Equal: False\n"
          ]
        }
      ]
    },
    {
      "cell_type": "markdown",
      "source": [
        "Solution"
      ],
      "metadata": {
        "id": "d3Z9pLkeiQbm"
      }
    },
    {
      "cell_type": "code",
      "source": [],
      "metadata": {
        "id": "Dsp9JBLCiRpT"
      },
      "execution_count": null,
      "outputs": []
    },
    {
      "cell_type": "markdown",
      "source": [],
      "metadata": {
        "id": "m6oJPI1KbXtU"
      }
    },
    {
      "cell_type": "markdown",
      "source": [
        "# **Exercises Loop**\n",
        "Exercise 1: Using a for Loop\n",
        "\n",
        "Write a for loop that prints each color in the following list:\n",
        "\n",
        " [\"red\", \"green\", \"blue\"]."
      ],
      "metadata": {
        "id": "JRqF9ElFbdC_"
      }
    },
    {
      "cell_type": "code",
      "source": [
        "for condition:\n",
        "    # Code to repeat\n"
      ],
      "metadata": {
        "id": "9wJcWA7cbhTQ"
      },
      "execution_count": null,
      "outputs": []
    },
    {
      "cell_type": "markdown",
      "source": [
        "Solution:\n",
        "\n",
        "\n",
        "Define list:\n",
        "\n",
        "colors = [\"red\", \"green\", \"blue\"] creates a list of colors.\n",
        "\n",
        "Loop through list:\n",
        "\n",
        " for color in colors iterates over each item in the colors list.\n",
        "\n",
        "Print each color:\n",
        "\n",
        "print(color) outputs the current color in the loop"
      ],
      "metadata": {
        "id": "Sc0zVcOYbjaR"
      }
    },
    {
      "cell_type": "code",
      "source": [
        "colors = [\"red\", \"green\", \"blue\"]\n",
        "\n",
        "# Write your for loop here\n",
        "for color in colors:\n",
        "    print(color)\n"
      ],
      "metadata": {
        "id": "8lsvtOYzblMA",
        "colab": {
          "base_uri": "https://localhost:8080/"
        },
        "outputId": "7b4166ad-5e2b-4d8d-cc9e-a0972a835708"
      },
      "execution_count": null,
      "outputs": [
        {
          "output_type": "stream",
          "name": "stdout",
          "text": [
            "red\n",
            "green\n",
            "blue\n"
          ]
        }
      ]
    },
    {
      "cell_type": "markdown",
      "source": [
        "## Exercise 2:\n",
        "### Using a while Loop\n",
        "Write a while loop that prints numbers from 10 down to 1."
      ],
      "metadata": {
        "id": "NYcKnOHAbn4F"
      }
    },
    {
      "cell_type": "code",
      "source": [
        "while condition:\n",
        "    # Code to repeat\n"
      ],
      "metadata": {
        "id": "aO3Z0ZJWbosH"
      },
      "execution_count": null,
      "outputs": []
    },
    {
      "cell_type": "markdown",
      "source": [
        "## Solution:\n",
        "Set Starting Value: num is set to 10.\n",
        "\n",
        "Loop Condition: The while loop runs as long as num > 0.\n",
        "\n",
        "Print Value: Inside the loop, num is printed.\n",
        "\n",
        "Decrease Value: num -= 1 reduces num by 1 each time.\n",
        "\n",
        "Stop Condition: Loop stops when num reaches 0."
      ],
      "metadata": {
        "id": "GozIWclvbq9z"
      }
    },
    {
      "cell_type": "code",
      "source": [
        "num = 10\n",
        "\n",
        "# Write your while loop here\n",
        "while num > 0:\n",
        "    print(num)\n",
        "    num -= 1  # Decrease num by 1 each time\n"
      ],
      "metadata": {
        "id": "wcccV--dbsdE",
        "colab": {
          "base_uri": "https://localhost:8080/"
        },
        "outputId": "11149e33-6b95-4ab4-ca67-c00804295dc8"
      },
      "execution_count": null,
      "outputs": [
        {
          "output_type": "stream",
          "name": "stdout",
          "text": [
            "10\n",
            "9\n",
            "8\n",
            "7\n",
            "6\n",
            "5\n",
            "4\n",
            "3\n",
            "2\n",
            "1\n"
          ]
        }
      ]
    },
    {
      "cell_type": "markdown",
      "source": [
        "# Exercise If-then: Investment Risk Check\n",
        "Write a Python code to determine the risk level of an investment based on its amount.\n",
        " Use the following conditions:\n",
        "\n",
        "If the investment amount is more than 50,000, print \"High-risk investment.\"\n",
        "\n",
        "If the investment amount is less than 10,000, print \"Low-risk investment.\"\n",
        "\n",
        "Otherwise, print \"Medium-risk investment.\"\n"
      ],
      "metadata": {
        "id": "DYFBG_s5bzvE"
      }
    },
    {
      "cell_type": "code",
      "source": [
        "# Exercise: Check the risk level based on investment amount\n",
        "investment_amount = int(input(\"Enter your investment amount: \"))  # Change this value to test different outcomes\n",
        "\n",
        "if investment_amount > 50000:\n",
        "    investment_risk = \"High-risk investment\"\n",
        "elif investment_amount < 10000:\n",
        "    investment_risk = \"Low-risk investment\"\n",
        "else:\n",
        "    investment_risk = \"Medium-risk investment\"\n",
        "\n",
        "print(f\"Your investment is a {investment_risk}\")\n",
        "\n"
      ],
      "metadata": {
        "id": "h-Ul0gqEb5sf",
        "colab": {
          "base_uri": "https://localhost:8080/"
        },
        "outputId": "9a21ec25-1550-4485-b033-52393ddc6ab8"
      },
      "execution_count": 11,
      "outputs": [
        {
          "output_type": "stream",
          "name": "stdout",
          "text": [
            "Enter your investment amount: 25000\n",
            "Your investment is a Medium-risk investment\n"
          ]
        }
      ]
    },
    {
      "cell_type": "markdown",
      "source": [
        "## Solution\n",
        "Explanation\n",
        "Set an investment amount and check its risk level based on size.\n",
        "\n",
        "If investment_amount > 50000, it prints \"High-risk investment.\"\n",
        "\n",
        "If investment_amount < 10000, it prints \"Low-risk investment.\"\n",
        "\n",
        "Otherwise, it prints \"Medium-risk investment.\""
      ],
      "metadata": {
        "id": "U8PmFuMTb7hG"
      }
    },
    {
      "cell_type": "code",
      "source": [
        "# Exercise: Check the risk level based on investment amount\n",
        "investment_amount = 2500  # Change this value to test different outcomes\n",
        "\n",
        "if investment_amount > 50000:\n",
        "    print(\"HIGH risk investment!\")\n",
        "elif investment_amount < 10000:\n",
        "    print(\"LOW risk investment!\")\n",
        "else:\n",
        "    print(\"Medium-risk investment.\")"
      ],
      "metadata": {
        "id": "veqNhcZHb83e",
        "colab": {
          "base_uri": "https://localhost:8080/"
        },
        "outputId": "5a8013bb-724a-4d47-bbe8-a4da4170e7fd"
      },
      "execution_count": null,
      "outputs": [
        {
          "output_type": "stream",
          "name": "stdout",
          "text": [
            "Medium-risk investment.\n"
          ]
        }
      ]
    },
    {
      "cell_type": "markdown",
      "source": [
        "# Exercise : Profit or Loss Check\n",
        "Write a Python code to check if a company made a profit or a loss based on its revenue and expenses. Use the following logic:\n",
        "\n",
        "If the revenue is greater than the expenses, print \"Profit.\"\n",
        "\n",
        "If the revenue is equal to or less than the expenses, print \"Loss.\""
      ],
      "metadata": {
        "id": "39eQwylWb-e8"
      }
    },
    {
      "cell_type": "code",
      "source": [
        "# Exercise: Determine profit or loss based on revenue and expenses\n",
        "revenue = 0   # Change this value to test different outcomes\n",
        "expenses = 0  # Change this value to test different outcomes\n",
        "\n",
        "if revenue > expenses:\n",
        "    # Print profit message here\n",
        "else:\n",
        "    # Print loss message here\n"
      ],
      "metadata": {
        "id": "L2NCOixWcAFb"
      },
      "execution_count": null,
      "outputs": []
    },
    {
      "cell_type": "markdown",
      "source": [
        "## Solution\n",
        "\n",
        "Set values for revenue and expenses to check financial status.\n",
        "\n",
        "If revenue > expenses, it prints \"Profit.\"\n",
        "\n",
        "If revenue <= expenses, it prints \"Loss.\""
      ],
      "metadata": {
        "id": "Hah7xAg4cBYf"
      }
    },
    {
      "cell_type": "code",
      "source": [
        "# Exercise: Determine profit or loss based on revenue and expenses\n",
        "revenue = 7000   # Change this value to test different outcomes\n",
        "expenses = 8000  # Change this value to test different outcomes\n",
        "\n",
        "if revenue > expenses:\n",
        "    print(\"Profit.\")\n",
        "else:\n",
        "    print(\"Loss!\")"
      ],
      "metadata": {
        "id": "g6pALVlacDSp",
        "colab": {
          "base_uri": "https://localhost:8080/"
        },
        "outputId": "9a2aa61e-a0ed-4fad-f038-27f9a4ac652f"
      },
      "execution_count": null,
      "outputs": [
        {
          "output_type": "stream",
          "name": "stdout",
          "text": [
            "Loss!\n"
          ]
        }
      ]
    },
    {
      "cell_type": "markdown",
      "source": [
        "Exercise\n",
        "\n",
        "**Importing a CSV file from a working URL 'https://raw.githubusercontent.com/datasets/s-and-p-500-companies/master/data/constituents.csv'**\n",
        "\n",
        "Then show data from first 4 rows"
      ],
      "metadata": {
        "id": "s0XkdMAHbnwb"
      }
    },
    {
      "cell_type": "markdown",
      "source": [
        "Solution"
      ],
      "metadata": {
        "id": "3U0V7yGzfluB"
      }
    },
    {
      "cell_type": "code",
      "source": [
        "import pandas as pd\n",
        "import numpy as np\n",
        "import matplotlib.pyplot as plt\n",
        "from datetime import date\n",
        "\n",
        "# URL of the CSV file\n",
        "url = 'https://raw.githubusercontent.com/datasets/s-and-p-500-companies/master/data/constituents.csv'\n",
        "\n",
        "# Read the CSV file into a pandas DataFrame\n",
        "df = pd.read_csv(url)\n",
        "\n",
        "# Display the first 4 rows of the DataFrame\n",
        "print(df.head(4))\n",
        "\n",
        "#Desired length of new data frame\n",
        "new_index_length = 180\n",
        "\n",
        "#Create a new business days index\n",
        "start_date = date.today()\n",
        "dates = pd.date_range(start_date, periods=new_index_length, freq='B')\n",
        "\n",
        "np.random.seed(42) #for reproducibility\n",
        "\n",
        "#Simulate close price column\n",
        "Close_Stock = 100 + np.cumsum(np.random.rand(new_index_length))\n",
        "\n",
        "#Create new data frame\n",
        "new_df = pd.DataFrame(index=dates)\n",
        "\n",
        "#Add the 'Close_Stock' column to new dataframe\n",
        "new_df['Close_Stock'] = Close_Stock\n",
        "\n",
        "#Calculate daily return\n",
        "Daily_Returns = new_df['Close_Stock'].pct_change() * 100\n",
        "\n",
        "#Add the 'Daily_Return' column to new dataframe\n",
        "new_df['Daily_Return'] = Daily_Returns\n",
        "\n",
        "# Display the first 4 rows of the new DataFrame\n",
        "print(new_df.head(4))\n",
        "\n",
        "# Calculate 20-day moving average\n",
        "new_df['MA20'] = new_df['Close_Stock'].rolling(window=20).mean()\n",
        "\n",
        "# Calculate 50-day moving average\n",
        "new_df['MA50'] = new_df['Close_Stock'].rolling(window=50).mean()\n",
        "\n",
        "# Plotting\n",
        "plt.figure(figsize=(12, 6))\n",
        "plt.plot(new_df.index, new_df['Close_Stock'], label='Close Price', color='blue')\n",
        "plt.plot(new_df.index, new_df['MA20'], label='20-Day MA', color='red')\n",
        "plt.plot(new_df.index, new_df['MA50'], label='50-Day MA', color='green')\n",
        "\n",
        "plt.title('Stock Price with Moving Averages')\n",
        "plt.xlabel('Date')\n",
        "plt.ylabel('Price')\n",
        "plt.legend()\n",
        "plt.grid(True)\n",
        "plt.show()"
      ],
      "metadata": {
        "id": "8PJ7xvkBfolI",
        "colab": {
          "base_uri": "https://localhost:8080/",
          "height": 631
        },
        "outputId": "7468f7f1-6dc9-481a-fb6d-f98dd8caa7d6"
      },
      "execution_count": null,
      "outputs": [
        {
          "output_type": "stream",
          "name": "stdout",
          "text": [
            "  Symbol             Security  GICS Sector         GICS Sub-Industry  \\\n",
            "0    MMM                   3M  Industrials  Industrial Conglomerates   \n",
            "1    AOS          A. O. Smith  Industrials         Building Products   \n",
            "2    ABT  Abbott Laboratories  Health Care     Health Care Equipment   \n",
            "3   ABBV               AbbVie  Health Care             Biotechnology   \n",
            "\n",
            "     Headquarters Location  Date added      CIK      Founded  \n",
            "0    Saint Paul, Minnesota  1957-03-04    66740         1902  \n",
            "1     Milwaukee, Wisconsin  2017-07-26    91142         1916  \n",
            "2  North Chicago, Illinois  1957-03-04     1800         1888  \n",
            "3  North Chicago, Illinois  2012-12-31  1551152  2013 (1888)  \n",
            "            Close_Stock  Daily_Return\n",
            "2025-02-28   100.374540           NaN\n",
            "2025-03-03   101.325254      0.947167\n",
            "2025-03-04   102.057248      0.722420\n",
            "2025-03-05   102.655907      0.586591\n"
          ]
        },
        {
          "output_type": "display_data",
          "data": {
            "text/plain": [
              "<Figure size 1200x600 with 1 Axes>"
            ],
            "image/png": "[encoded data removed]"
          },
          "metadata": {}
        }
      ]
    },
    {
      "cell_type": "markdown",
      "source": [
        "*1*. Create a sequence of business days covering approximately 6 months (around 180 trading days).\n",
        "\n",
        "2. Calculate the daily return as the percentage change in the Close price of any stock.\n",
        "2b. Store the result in a new column named Daily Return.\n",
        "\n",
        "\n",
        "\n",
        "3. Create a plot that displays:\n",
        "The synthetic Close price; The 20-day moving average (MA20); The 50-day moving average (MA50)\n",
        "\n",
        "4. price of btc in month of feb 2025.\n",
        "\n",
        "\n"
      ],
      "metadata": {
        "id": "i9EZsIFtk_px"
      }
    }
  ]
}