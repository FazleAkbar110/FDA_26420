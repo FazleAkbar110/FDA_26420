{
  "nbformat": 4,
  "nbformat_minor": 0,
  "metadata": {
    "colab": {
      "provenance": [],
      "include_colab_link": true
    },
    "kernelspec": {
      "name": "python3",
      "display_name": "Python 3"
    },
    "language_info": {
      "name": "python"
    }
  },
  "cells": [
    {
      "cell_type": "markdown",
      "metadata": {
        "id": "view-in-github",
        "colab_type": "text"
      },
      "source": [
        "<a href=\"https://colab.research.google.com/github/FazleAkbar110/FDA_26420/blob/main/FA_Practice_22_02_FDA_Introduction_to_Python.ipynb\" target=\"_parent\"><img src=\"https://colab.research.google.com/assets/colab-badge.svg\" alt=\"Open In Colab\"/></a>"
      ]
    },
    {
      "cell_type": "markdown",
      "source": [
        "# **Module 1: Introduction to Basic Python Syntax**\n",
        "\n",
        "Content:\n",
        "\n",
        "### 1) **Variables:**\n",
        " Containers for storing data values.\n",
        "\n",
        "### **2) Data Types:**\n",
        "Classifications of data that define the kind of value a variable holds, such as integers, floats, strings, and booleans.\n",
        "\n",
        "### **3)Operators:**\n",
        "Operators perform calculations or comparisons on variables and values.\n",
        "\n",
        "### **4)Basic Input/Output:**\n",
        " Displays data to the user, typically using the print() function.\n"
      ],
      "metadata": {
        "id": "y2ztwqQ2A_7P"
      }
    },
    {
      "cell_type": "markdown",
      "source": [
        "### **What are comments?**\n",
        "Comments are notes added to code to explain what it does. They’re ignored by the computer when running the program.\n",
        "\n",
        "To add comment, we use # and the whole line of code becomes a comment.  "
      ],
      "metadata": {
        "id": "ilH82Zz3wLMN"
      }
    },
    {
      "cell_type": "markdown",
      "source": [
        "## **Strings**\n",
        "Strings in python are surrounded by either single quotation marks, or double quotation marks.\n",
        "\n",
        "'hello' is the same as \"hello\".\n",
        "\n",
        "You can display a string literal with the print() function"
      ],
      "metadata": {
        "id": "eTNrMLZaYkRv"
      }
    },
    {
      "cell_type": "code",
      "source": [
        "print(\"Hello, world!\")"
      ],
      "metadata": {
        "id": "x_azF_ECYjp1",
        "colab": {
          "base_uri": "https://localhost:8080/"
        },
        "outputId": "856054fa-ddef-42ce-d279-93ce352c32fc"
      },
      "execution_count": null,
      "outputs": [
        {
          "output_type": "stream",
          "name": "stdout",
          "text": [
            "Hello, world!\n"
          ]
        }
      ]
    },
    {
      "cell_type": "markdown",
      "source": [
        "# **Variables**\n",
        "a variable is a named container that stores data, such as numbers, text, or other information. You can assign values to variables and use them throughout your code to make it easier to organize, manipulate, and update data."
      ],
      "metadata": {
        "id": "z_GGpTzffNsf"
      }
    },
    {
      "cell_type": "code",
      "execution_count": 3,
      "metadata": {
        "id": "eqxbORLUA805",
        "colab": {
          "base_uri": "https://localhost:8080/"
        },
        "outputId": "a6921ba6-bce1-4af7-8156-b692bf0e4e4a"
      },
      "outputs": [
        {
          "output_type": "stream",
          "name": "stdout",
          "text": [
            "Name: John Doe , Age: 25 , Salary: 45000.5 , Employed: True\n"
          ]
        }
      ],
      "source": [
        "# Module 1: Introduction to Basic Python Syntax\n",
        "\n",
        "# Variables and Data Types\n",
        "age = 25   # Storing an integer value in the 'age' variable\n",
        "salary = 45000.50  # Storing a float value (number with decimals) in the 'salary' variable\n",
        "name = \"John Doe\"  # Storing a string (text) in the 'name' variable\n",
        "is_employed = True  # Storing a boolean (True/False) in the 'is_employed' variable\n",
        "\n",
        "# Using the print function to display the variables in a formatted string\n",
        "print(\"Name:\", name, \", Age:\", age, \", Salary:\", salary, \", Employed:\", is_employed)\n",
        "\n"
      ]
    },
    {
      "cell_type": "markdown",
      "source": [
        "# Data Types in Python\n",
        "Data types are classifications of data that tell the interpreter how to store and manipulate the data. In Python, the most common data types include integers, floats, strings, booleans, lists, and dictionaries."
      ],
      "metadata": {
        "id": "8snAn90pgvsU"
      }
    },
    {
      "cell_type": "markdown",
      "source": [
        "## 1. Integer (int)\n",
        "\n",
        "An integer is a whole number without a decimal point, used for counting or indexing.\n",
        "\n",
        "This code defines a variable age and assigns it the integer value 30.\n",
        "\n",
        "The print function is used to display the age.\n"
      ],
      "metadata": {
        "id": "Lt09v6UqgzqU"
      }
    },
    {
      "cell_type": "code",
      "source": [
        "# Integer Exercise\n",
        "age = 30  # Define your age as an integer\n",
        "print(\"Your Age:\", age)  # Output the age"
      ],
      "metadata": {
        "id": "4TsYn3jegy-h",
        "colab": {
          "base_uri": "https://localhost:8080/"
        },
        "outputId": "fdc8e4dd-3679-411c-d87c-eade9f9a8744"
      },
      "execution_count": 4,
      "outputs": [
        {
          "output_type": "stream",
          "name": "stdout",
          "text": [
            "Your Age: 30\n"
          ]
        }
      ]
    },
    {
      "cell_type": "markdown",
      "source": [
        "##2. Float (float)\n",
        "\n",
        "A float is a number that includes a decimal point, often used for precise measurements"
      ],
      "metadata": {
        "id": "UAUJOI2ShHOE"
      }
    },
    {
      "cell_type": "code",
      "source": [
        "# Float Exercise\n",
        "salary = 75000.50  # Define your salary as a float\n",
        "print(\"Your Salary:\", salary)  # Output the salary"
      ],
      "metadata": {
        "id": "0CeKXsaahOjd",
        "colab": {
          "base_uri": "https://localhost:8080/"
        },
        "outputId": "0cf2df62-07d9-4da2-a0b5-3340dc691aa1"
      },
      "execution_count": 5,
      "outputs": [
        {
          "output_type": "stream",
          "name": "stdout",
          "text": [
            "Your Salary: 75000.5\n"
          ]
        }
      ]
    },
    {
      "cell_type": "markdown",
      "source": [
        "## 3. String (str)\n",
        "\n",
        "A string is a sequence of characters enclosed in quotes, used to represent text."
      ],
      "metadata": {
        "id": "mjOp9WuxhRVq"
      }
    },
    {
      "cell_type": "code",
      "source": [
        "# String Exercise\n",
        "name = \"Sarah\"  # Define your name as a string\n",
        "print(\"Your Name:\", name)  # Output the name"
      ],
      "metadata": {
        "id": "bP7RQi2nhXAw",
        "colab": {
          "base_uri": "https://localhost:8080/"
        },
        "outputId": "737e2dfa-082c-4dfd-f317-1bd39f7e5856"
      },
      "execution_count": 6,
      "outputs": [
        {
          "output_type": "stream",
          "name": "stdout",
          "text": [
            "Your Name: Sarah\n"
          ]
        }
      ]
    },
    {
      "cell_type": "markdown",
      "source": [
        "## 4. Boolean (bool)\n",
        "\n",
        "A boolean represents one of two values: True or False, often used for conditional statements."
      ],
      "metadata": {
        "id": "E0RAN7OuhZT3"
      }
    },
    {
      "cell_type": "code",
      "source": [
        "# Boolean Exercise\n",
        "is_student = True  # Define if you are a student as a boolean\n",
        "print(\"Are you a student?\", is_student)  # Output the boolean value"
      ],
      "metadata": {
        "id": "oloFzMSohfOj",
        "colab": {
          "base_uri": "https://localhost:8080/"
        },
        "outputId": "58664780-e261-4d3f-8aa5-cda151661f17"
      },
      "execution_count": null,
      "outputs": [
        {
          "output_type": "stream",
          "name": "stdout",
          "text": [
            "Are you a student? True\n"
          ]
        }
      ]
    },
    {
      "cell_type": "markdown",
      "source": [
        "## 5. List\n",
        "\n",
        "A list is an ordered collection of items that can be of different types, used to store multiple values in a single variable."
      ],
      "metadata": {
        "id": "vy8r-Pgxhhye"
      }
    },
    {
      "cell_type": "code",
      "source": [
        "# List Exercise\n",
        "favorite_books = [\"Rich Dad Poor Dad\", \"The Intelligent Investor\", \"Think and Grow Rich\"]  # Define a list of books\n",
        "print(\"Favorite Financial Books:\", favorite_books)  # Output the list of books"
      ],
      "metadata": {
        "colab": {
          "base_uri": "https://localhost:8080/"
        },
        "id": "RyAWn5_ChnPl",
        "outputId": "ed07225d-2671-4ccb-915b-4f235c32584a"
      },
      "execution_count": null,
      "outputs": [
        {
          "output_type": "stream",
          "name": "stdout",
          "text": [
            "Favorite Financial Books: ['Rich Dad Poor Dad', 'The Intelligent Investor', 'Think and Grow Rich']\n"
          ]
        }
      ]
    },
    {
      "cell_type": "markdown",
      "source": [
        "# **Operators**:\n",
        "Symbols in programming that perform operations on data.\n",
        "\n",
        "Types:\n",
        "\n",
        "**Arithmetic Operators**: Perform mathematical calculations (e.g., + for addition, - for subtraction).\n",
        "\n",
        "**Comparison Operators**: Evaluate conditions to compare values (e.g., == for equality, > for greater than).\n",
        "\n",
        "Importance: Essential for data manipulation and decision-making in programming."
      ],
      "metadata": {
        "id": "UgSzvQIjyxKo"
      }
    },
    {
      "cell_type": "code",
      "source": [
        "# Operators\n",
        "\n",
        "# Arithmetic operations\n",
        "sum = 5 + 3  # Adds 5 and 3\n",
        "difference = 10 - 2  # Subtracts 2 from 10\n",
        "product = 4 * 3  # Multiplies 4 by 3\n",
        "quotient = 16 / 4  # Divides 16 by 4\n",
        "\n",
        "# Comparison operations\n",
        "is_equal = (5 == 5)  # Checks if 5 is equal to 5 (True)\n",
        "is_not_equal = (5 != 3)  # Checks if 5 is not equal to 3 (True)\n",
        "result = (5 > 3) and (2 < 4)  # Checks if 5 is greater than 3 AND 2 is less than 4 (True)\n",
        "\n",
        "# Output the results of the operations\n",
        "print(f\"Sum: {sum}, Difference: {difference}, Product: {product}, Quotient: {quotient}\")\n",
        "print(f\"Is Equal: {is_equal}, Is Not Equal: {is_not_equal}, Result: {result}\")\n",
        "\n",
        "\n"
      ],
      "metadata": {
        "id": "qKLaxQivBO-8",
        "colab": {
          "base_uri": "https://localhost:8080/"
        },
        "outputId": "dd46fda8-151c-4301-b123-dd9b0c7283bb"
      },
      "execution_count": null,
      "outputs": [
        {
          "output_type": "stream",
          "name": "stdout",
          "text": [
            "Sum: 8, Difference: 8, Product: 12, Quotient: 4.0\n",
            "Is Equal: True, Is Not Equal: True, Result: True\n"
          ]
        }
      ]
    },
    {
      "cell_type": "markdown",
      "source": [
        "# Introduction to Loops in Python\n",
        "In programming, loops allow us to repeat a block of code multiple times. This is useful when we want to perform the same action more than once, like printing a message, processing items in a list, or performing calculations on a sequence of numbers.\n",
        "\n",
        "Python has two main types of loops:\n",
        "\n",
        "## **for loop**\n",
        "- Useful for iterating over a sequence, like a list or a range of numbers.\n",
        "\n",
        "## **while loop**\n",
        "- Repeats code as long as a specified condition remains True."
      ],
      "metadata": {
        "id": "tEuSI5WUXRJh"
      }
    },
    {
      "cell_type": "markdown",
      "source": [
        "## The for Loop\n",
        "The for loop in Python is used to iterate over a sequence, like a list or a range of number\n",
        "\n",
        "**Example of a for Loop:**\n",
        "\n",
        "Let’s print the numbers from 1 to 5 using a for loop.\n",
        "\n",
        "**Explanation:**\n",
        "\n",
        "range(1, 6) generates numbers 1 to 5.\n",
        "Each number in this range is printed in the loop."
      ],
      "metadata": {
        "id": "zsrDl1FAXt9s"
      }
    },
    {
      "cell_type": "code",
      "source": [
        "for num in range(1, 6):  # range(1, 6) generates numbers from 1 to 5\n",
        "    print(num)"
      ],
      "metadata": {
        "id": "QjyJGrJfXqsX",
        "colab": {
          "base_uri": "https://localhost:8080/"
        },
        "outputId": "b0b529c8-c21b-4af5-8c36-3504a6f8a6bd"
      },
      "execution_count": null,
      "outputs": [
        {
          "output_type": "stream",
          "name": "stdout",
          "text": [
            "1\n",
            "2\n",
            "3\n",
            "4\n",
            "5\n"
          ]
        }
      ]
    },
    {
      "cell_type": "markdown",
      "source": [
        "## The while Loop\n",
        "The while loop keeps running as long as a certain condition is True.\n",
        "\n",
        "## Example of a while Loop:\n",
        "\n",
        "Let’s print numbers from 1 to 5 using a while loop.\n",
        "\n",
        "The while loop checks if count is less than or equal to 5.\n",
        "\n",
        "Each time, it prints count and then adds 1 to it."
      ],
      "metadata": {
        "id": "8U6lioBsY-FX"
      }
    },
    {
      "cell_type": "code",
      "source": [
        "count = 1  # Start from 1\n",
        "while count <= 20:\n",
        "    print(count)\n",
        "    count += 1  # Increase count by 1 each time\n"
      ],
      "metadata": {
        "id": "zdVJMJ0jZAhI",
        "colab": {
          "base_uri": "https://localhost:8080/"
        },
        "outputId": "22259046-9388-438c-b4a9-fa4c33cc209a"
      },
      "execution_count": null,
      "outputs": [
        {
          "output_type": "stream",
          "name": "stdout",
          "text": [
            "1\n",
            "2\n",
            "3\n",
            "4\n",
            "5\n",
            "6\n",
            "7\n",
            "8\n",
            "9\n",
            "10\n",
            "11\n",
            "12\n",
            "13\n",
            "14\n",
            "15\n",
            "16\n",
            "17\n",
            "18\n",
            "19\n",
            "20\n"
          ]
        }
      ]
    },
    {
      "cell_type": "markdown",
      "source": [
        "If-Else Statements\n",
        "If-else statements are used to perform different actions based on conditions. They allow the program to make decisions and execute certain blocks of code only if a specified condition is true. This is helpful for tasks where different responses are needed based on certain inputs or values.\n",
        "\n",
        "## Basic Structure\n",
        "If Statement: Checks if a condition is True. If it is, executes the code inside the if block.\n",
        "\n",
        "Else Statement: Executes when the if condition is False.\n",
        "\n",
        "Elif (else if): Checks another condition if the previous if or elif was False."
      ],
      "metadata": {
        "id": "Osl6UrGnbxne"
      }
    },
    {
      "cell_type": "markdown",
      "source": [
        "## Example Code\n",
        "Check if age is less than 18: If True, it prints \"You are a minor.\"\n",
        "\n",
        "Check if age is exactly 18: If True, it prints \"You are exactly 18!\"\n",
        "\n",
        "Else: If both conditions are False, it prints \"You are an adult.\""
      ],
      "metadata": {
        "id": "fvp4NYSnb_ZK"
      }
    },
    {
      "cell_type": "code",
      "source": [
        "age = 17\n",
        "\n",
        "if age < 18:\n",
        "    print(\"You are a minor.\")\n",
        "elif age == 18:\n",
        "    print(\"You are exactly 18!\")\n",
        "else:\n",
        "    print(\"You are an adult.\")\n"
      ],
      "metadata": {
        "id": "_610-8OJb4v7",
        "colab": {
          "base_uri": "https://localhost:8080/"
        },
        "outputId": "6d53f095-8f8e-4374-c6dd-8e5d697ecf84"
      },
      "execution_count": null,
      "outputs": [
        {
          "output_type": "stream",
          "name": "stdout",
          "text": [
            "You are a minor.\n"
          ]
        }
      ]
    },
    {
      "cell_type": "markdown",
      "source": [
        "#  Data Structures\n",
        "\n",
        "\n",
        "Content:\n",
        "\n",
        "### **Creating DataFrames:**\n",
        "This means setting up a table to organize data in rows and columns. It’s like creating a spreadsheet where each row can represent a different item, and each column holds specific information about those items.\n",
        "\n"
      ],
      "metadata": {
        "id": "C4Lph8WLCPIF"
      }
    },
    {
      "cell_type": "markdown",
      "source": [],
      "metadata": {
        "id": "wMo022gMet4d"
      }
    },
    {
      "cell_type": "code",
      "source": [
        "# creating a dataframe\n",
        "\n",
        "import pandas as pd\n",
        "\n",
        "# Create a dataframe \"manually\"\n",
        "# data = {'Name': ['Alice', 'Bob', 'Charlie'], 'Age': [25, 30, 35], 'City': ['New York', 'San Francisco', 'Los Angeles']}\n",
        "data = [['Alice', 25, 'New York'], ['Bob', 30, 'San Francisco'], ['Charlie', 35, 'Los Angeles']]\n",
        "df = pd.DataFrame(data, columns = ['Name', 'Age', 'City'])\n",
        "\n",
        "# Display the dataframe\n",
        "print(df)\n",
        "\n",
        "# Create a DataFrame with 2 columns and 10 rows\n",
        "data = {'Num1': range(10), 'Num2': range(10, 20)}\n",
        "new_df = pd.DataFrame(data)\n",
        "\n",
        "# Display the DataFrame\n",
        "print(new_df)\n"
      ],
      "metadata": {
        "id": "QEa5z5LPe4iR",
        "colab": {
          "base_uri": "https://localhost:8080/"
        },
        "outputId": "6049a124-4b82-4256-d08e-9c00a4299d14"
      },
      "execution_count": 16,
      "outputs": [
        {
          "output_type": "stream",
          "name": "stdout",
          "text": [
            "      Name  Age           City\n",
            "0    Alice   25       New York\n",
            "1      Bob   30  San Francisco\n",
            "2  Charlie   35    Los Angeles\n",
            "   Num1  Num2\n",
            "0     0    10\n",
            "1     1    11\n",
            "2     2    12\n",
            "3     3    13\n",
            "4     4    14\n",
            "5     5    15\n",
            "6     6    16\n",
            "7     7    17\n",
            "8     8    18\n",
            "9     9    19\n"
          ]
        }
      ]
    },
    {
      "cell_type": "markdown",
      "source": [
        "## **What are Libraries?**\n",
        "Libraries are collections of pre-written code that provide functions and tools, helping programmers save time and enhance their applications.\n",
        "\n",
        "**Import the pandas library for data manipulation**\n",
        "\n",
        "This line imports the pandas library, which is essential for working with data structures like DataFrames in Python. The alias pd is commonly used to refer to pandas throughout the code."
      ],
      "metadata": {
        "id": "pPuSLK4T9wDe"
      }
    },
    {
      "cell_type": "code",
      "source": [
        "# Module 2: Data Structures and Pandas\n",
        "\n",
        "import pandas as pd"
      ],
      "metadata": {
        "id": "lBPAZifRCU4I"
      },
      "execution_count": null,
      "outputs": []
    },
    {
      "cell_type": "markdown",
      "source": [
        "**Creating a DataFrame with sample data**\n",
        "\n",
        "creates a dictionary named data with two keys: 'product' and 'Price'. The 'Date' key is associated with a list of products strings, and the 'Price' key is associated with a list of integer prices."
      ],
      "metadata": {
        "id": "mtiuK3BY993w"
      }
    },
    {
      "cell_type": "code",
      "source": [
        "data = [['Laptop', 1000], ['Tablet', 500], ['Smartphone', 700]]\n",
        "\n",
        "print(data)"
      ],
      "metadata": {
        "id": "T5BNN0QF-OSw",
        "colab": {
          "base_uri": "https://localhost:8080/"
        },
        "outputId": "c833ecc5-ea17-4c25-d5a0-3ed6de16247c"
      },
      "execution_count": null,
      "outputs": [
        {
          "output_type": "stream",
          "name": "stdout",
          "text": [
            "[['Laptop', 1000], ['Tablet', 500], ['Smartphone', 700]]\n"
          ]
        }
      ]
    },
    {
      "cell_type": "markdown",
      "source": [
        "**Create a DataFrame from the data** converts the dictionary data into a pandas DataFrame called df. The DataFrame organizes the data into a tabular structure with rows and columns."
      ],
      "metadata": {
        "id": "orvtRQ3o-Sva"
      }
    },
    {
      "cell_type": "code",
      "source": [
        "df = pd.DataFrame(data)"
      ],
      "metadata": {
        "id": "KBxlDcxO-cMo"
      },
      "execution_count": null,
      "outputs": []
    },
    {
      "cell_type": "markdown",
      "source": [
        "**Displaying the DataFrame**"
      ],
      "metadata": {
        "id": "exb2i_viAMLG"
      }
    },
    {
      "cell_type": "code",
      "source": [
        "print(df)  # Print the DataFrame to see the results"
      ],
      "metadata": {
        "id": "G3OMeXizAQty",
        "colab": {
          "base_uri": "https://localhost:8080/"
        },
        "outputId": "39026ac0-7942-4a72-b42a-6a39f0e20dc2"
      },
      "execution_count": null,
      "outputs": [
        {
          "output_type": "stream",
          "name": "stdout",
          "text": [
            "            0     1\n",
            "0      Laptop  1000\n",
            "1      Tablet   500\n",
            "2  Smartphone   700\n"
          ]
        }
      ]
    },
    {
      "cell_type": "markdown",
      "source": [
        "**Another DataFrame code**"
      ],
      "metadata": {
        "id": "yQFMeL3ufBp3"
      }
    },
    {
      "cell_type": "code",
      "source": [
        "\n",
        "import pandas as pd\n",
        "\n",
        "# Creating a DataFrame\n",
        "data = {'Date': ['2021-01-01', '2021-01-02', '2021-01-03'],\n",
        "        'Price': [100, 102, 104]}\n",
        "df = pd.DataFrame(data)\n",
        "\n",
        "# Converting Date column to datetime\n",
        "df['Date'] = pd.to_datetime(df['Date'])\n",
        "\n",
        "# Setting Date column as the index\n",
        "df.set_index('Date', inplace=True)\n",
        "\n",
        "# Displaying the DataFrame\n",
        "print(df)\n"
      ],
      "metadata": {
        "colab": {
          "base_uri": "https://localhost:8080/"
        },
        "id": "s6C59kwcfBCw",
        "outputId": "3d7d199a-5381-4b9e-c9ea-696770d1140f"
      },
      "execution_count": 17,
      "outputs": [
        {
          "output_type": "stream",
          "name": "stdout",
          "text": [
            "            Price\n",
            "Date             \n",
            "2021-01-01    100\n",
            "2021-01-02    102\n",
            "2021-01-03    104\n"
          ]
        }
      ]
    },
    {
      "cell_type": "markdown",
      "source": [
        "## **Fetching data from online sources**"
      ],
      "metadata": {
        "id": "3q3Wi6YGe72i"
      }
    },
    {
      "cell_type": "code",
      "source": [
        "# Loading data from a working GitHub URL for S&P 500 companies financials\n",
        "url_sp500 = 'https://raw.githubusercontent.com/datasets/s-and-p-500-companies/master/data/constituents.csv'\n",
        "df_sp500 = pd.read_csv(url_sp500)\n",
        "print(df_sp500.head())\n"
      ],
      "metadata": {
        "colab": {
          "base_uri": "https://localhost:8080/"
        },
        "id": "wFBotfWke8GL",
        "outputId": "78fb2773-2ef0-4946-fb4f-e281ac7c3d30"
      },
      "execution_count": null,
      "outputs": [
        {
          "output_type": "stream",
          "name": "stdout",
          "text": [
            "  Symbol             Security             GICS Sector  \\\n",
            "0    MMM                   3M             Industrials   \n",
            "1    AOS          A. O. Smith             Industrials   \n",
            "2    ABT  Abbott Laboratories             Health Care   \n",
            "3   ABBV               AbbVie             Health Care   \n",
            "4    ACN            Accenture  Information Technology   \n",
            "\n",
            "                GICS Sub-Industry    Headquarters Location  Date added  \\\n",
            "0        Industrial Conglomerates    Saint Paul, Minnesota  1957-03-04   \n",
            "1               Building Products     Milwaukee, Wisconsin  2017-07-26   \n",
            "2           Health Care Equipment  North Chicago, Illinois  1957-03-04   \n",
            "3                   Biotechnology  North Chicago, Illinois  2012-12-31   \n",
            "4  IT Consulting & Other Services          Dublin, Ireland  2011-07-06   \n",
            "\n",
            "       CIK      Founded  \n",
            "0    66740         1902  \n",
            "1    91142         1916  \n",
            "2     1800         1888  \n",
            "3  1551152  2013 (1888)  \n",
            "4  1467373         1989  \n"
          ]
        }
      ]
    },
    {
      "cell_type": "markdown",
      "source": [
        "### **Data Cleaning:**\n",
        "This is the process of fixing mistakes in the data. It involves checking for errors, filling in missing information, and making sure everything is correct and tidy so that the data can be easily used for analysis or making decisions."
      ],
      "metadata": {
        "id": "fQNmCvkofZkj"
      }
    },
    {
      "cell_type": "markdown",
      "source": [
        "**Checking Missing Values**"
      ],
      "metadata": {
        "id": "2exlJEmaghm7"
      }
    },
    {
      "cell_type": "code",
      "source": [
        "# Loading data from a working GitHub URL for investor flow of funds\n",
        "url_funds = 'https://raw.githubusercontent.com/datasets/investor-flow-of-funds-us/master/data/weekly.csv'\n",
        "df_funds = pd.read_csv(url_funds)\n",
        "\n",
        "# Checking for missing values\n",
        "print(df_funds.isnull().sum())\n",
        "\n"
      ],
      "metadata": {
        "colab": {
          "base_uri": "https://localhost:8080/"
        },
        "id": "fv2N1-hafarF",
        "outputId": "79097478-cb5f-40a3-b8fe-0aff53fbbcf5"
      },
      "execution_count": null,
      "outputs": [
        {
          "output_type": "stream",
          "name": "stdout",
          "text": [
            "Date                 0\n",
            "Total Equity         0\n",
            "Domestic Equity    109\n",
            "World Equity         0\n",
            "Hybrid             109\n",
            "Total Bond           0\n",
            "Taxable Bond       109\n",
            "Municipal Bond       0\n",
            "Total              109\n",
            "dtype: int64\n"
          ]
        }
      ]
    },
    {
      "cell_type": "markdown",
      "source": [
        "**Filling missing values**"
      ],
      "metadata": {
        "id": "rYklmbdygktW"
      }
    },
    {
      "cell_type": "code",
      "source": [
        "# Loading data from a working GitHub URL for investor flow of funds\n",
        "url_funds = 'https://raw.githubusercontent.com/datasets/investor-flow-of-funds-us/master/data/weekly.csv'\n",
        "df_funds = pd.read_csv(url_funds)\n",
        "\n",
        "# Separating numeric and non-numeric columns\n",
        "numeric_cols = df_funds.select_dtypes(include=['float64', 'int64']).columns  # Get columns with numeric data\n",
        "non_numeric_cols = df_funds.select_dtypes(exclude=['float64', 'int64']).columns  # Get columns with non-numeric data\n",
        "\n",
        "# Filling missing values in numeric columns with the mean of the column\n",
        "df_funds[numeric_cols] = df_funds[numeric_cols].fillna(df_funds[numeric_cols].mean())  # Replace missing values with column mean\n",
        "\n",
        "# Displaying the cleaned data\n",
        "print(df_funds.head())  # Print the first 5 rows of the cleaned DataFrame\n",
        "\n"
      ],
      "metadata": {
        "colab": {
          "base_uri": "https://localhost:8080/"
        },
        "id": "r4_YkfZ2f21s",
        "outputId": "b1d23f91-3fa5-411a-a724-a916cefa4c4f"
      },
      "execution_count": null,
      "outputs": [
        {
          "output_type": "stream",
          "name": "stdout",
          "text": [
            "         Date  Total Equity  Domestic Equity  World Equity  Hybrid  \\\n",
            "0  2011-10-05         -4002          -4499.0           497 -1354.0   \n",
            "1  2011-10-12         -7397          -5842.0         -1555   512.0   \n",
            "2  2011-10-19         -3292          -3466.0           174  1399.0   \n",
            "3  2011-10-26         -3696          -2998.0          -698  2631.0   \n",
            "4  2011-12-07         -7956          -5761.0         -2196  1089.0   \n",
            "\n",
            "   Total Bond  Taxable Bond  Municipal Bond    Total  \n",
            "0       -5828       -6258.0             430 -11184.0  \n",
            "1        3954        3927.0              28  -2931.0  \n",
            "2        5652        5102.0             550   3759.0  \n",
            "3        4910        4070.0             841   3846.0  \n",
            "4        3523        2068.0            1456  -3343.0  \n"
          ]
        }
      ]
    },
    {
      "cell_type": "markdown",
      "source": [
        "**Converting 'Date' column to datetime format**"
      ],
      "metadata": {
        "id": "_CeE5z1UgrmM"
      }
    },
    {
      "cell_type": "code",
      "source": [
        "# Loading data from a working GitHub URL for investor flow of funds\n",
        "url_funds = 'https://raw.githubusercontent.com/datasets/investor-flow-of-funds-us/master/data/weekly.csv'\n",
        "df_funds = pd.read_csv(url_funds)\n",
        "\n",
        "# Converting 'Date' column to datetime format\n",
        "df_funds['Date'] = pd.to_datetime(df_funds['Date'])  # Convert 'Date' column to datetime type\n",
        "\n",
        "# Displaying the cleaned data\n",
        "print(df_funds.head())  # Print the first 5 rows of the cleaned DataFrame"
      ],
      "metadata": {
        "colab": {
          "base_uri": "https://localhost:8080/"
        },
        "id": "I_qullmhgsae",
        "outputId": "773bf0d6-8996-4f43-e3cc-730c50c9587c"
      },
      "execution_count": null,
      "outputs": [
        {
          "output_type": "stream",
          "name": "stdout",
          "text": [
            "        Date  Total Equity  Domestic Equity  World Equity  Hybrid  Total Bond  \\\n",
            "0 2011-10-05         -4002          -4499.0           497 -1354.0       -5828   \n",
            "1 2011-10-12         -7397          -5842.0         -1555   512.0        3954   \n",
            "2 2011-10-19         -3292          -3466.0           174  1399.0        5652   \n",
            "3 2011-10-26         -3696          -2998.0          -698  2631.0        4910   \n",
            "4 2011-12-07         -7956          -5761.0         -2196  1089.0        3523   \n",
            "\n",
            "   Taxable Bond  Municipal Bond    Total  \n",
            "0       -6258.0             430 -11184.0  \n",
            "1        3927.0              28  -2931.0  \n",
            "2        5102.0             550   3759.0  \n",
            "3        4070.0             841   3846.0  \n",
            "4        2068.0            1456  -3343.0  \n"
          ]
        }
      ]
    },
    {
      "cell_type": "code",
      "source": [],
      "metadata": {
        "id": "ZirRH6RAguNd"
      },
      "execution_count": null,
      "outputs": []
    },
    {
      "cell_type": "markdown",
      "source": [
        "# ** Data Visualization**\n",
        "\n",
        "\n",
        "Content:\n",
        "\n",
        "Using Matplotlib\n",
        "\n",
        "Using Seaborn\n",
        "\n",
        "**Matplotlib**: is used for creating basic plots and visualizations like line graphs, bar charts, and scatter plots in Python.\n",
        "\n",
        "**Seaborn**: Seaborn is built on top of Matplotlib and is used for creating more advanced and aesthetically pleasing statistical visualizations, such as heatmaps and violin plots."
      ],
      "metadata": {
        "id": "GmEwOeA5hP6b"
      }
    },
    {
      "cell_type": "code",
      "source": [
        "import pandas as pd\n",
        "import matplotlib.pyplot as plt\n"
      ],
      "metadata": {
        "id": "GHIBlgrJhXpN"
      },
      "execution_count": null,
      "outputs": []
    },
    {
      "cell_type": "code",
      "source": [
        "dates = pd.date_range(start='2021-01-01', periods=3)\n",
        "prices = [100, 102, 104]"
      ],
      "metadata": {
        "id": "ulC9J7vJhXkg"
      },
      "execution_count": null,
      "outputs": []
    },
    {
      "cell_type": "code",
      "source": [
        "plt.figure(figsize=(8, 4))  # Create figure\n",
        "plt.plot(dates, prices, marker='o')  # Plot data with markers\n",
        "\n",
        "# Add titles and labels\n",
        "plt.title('Stock Prices Over Time')\n",
        "plt.xlabel('Date')\n",
        "plt.ylabel('Price')\n",
        "plt.grid(True)\n",
        "\n",
        "# Format the x-axis to show dates\n",
        "plt.gca().xaxis.set_major_formatter(plt.matplotlib.dates.DateFormatter('%Y-%m-%d'))\n",
        "plt.gca().xaxis.set_major_locator(plt.matplotlib.dates.DayLocator())\n",
        "plt.gcf().autofmt_xdate()\n",
        "\n",
        "# Show the plot\n",
        "plt.show()\n"
      ],
      "metadata": {
        "colab": {
          "base_uri": "https://localhost:8080/",
          "height": 412
        },
        "id": "oZfuL-elhXhh",
        "outputId": "e3e35369-dbe0-4ce1-a77a-0b6e8b2c3f73"
      },
      "execution_count": null,
      "outputs": [
        {
          "output_type": "display_data",
          "data": {
            "text/plain": [
              "<Figure size 800x400 with 1 Axes>"
            ],
            "image/png": "[encoded data removed]"
          },
          "metadata": {}
        }
      ]
    },
    {
      "cell_type": "markdown",
      "source": [
        "**Visualizing Stock Price Distribution with Seaborn**"
      ],
      "metadata": {
        "id": "sYdp3CJohf39"
      }
    },
    {
      "cell_type": "code",
      "source": [
        "import seaborn as sns\n",
        "import pandas as pd\n",
        "\n",
        "# Load the stock data\n",
        "url = 'https://raw.githubusercontent.com/datasets/investor-flow-of-funds-us/master/data/weekly.csv'  # URL of the CSV file\n",
        "df = pd.read_csv(url)  # Read the CSV file into a DataFrame\n",
        "\n",
        "# Plot the distribution of total funds\n",
        "plt.figure(figsize=(12, 6))  # Create a figure with a specified size (12x6 inches)\n",
        "sns.histplot(df['Total'], kde=True, bins=30)  # Plot a histogram with 30 bins and overlay a KDE (kernel density estimate) plot\n",
        "plt.title('Distribution of Total Funds')  # Set the title of the plot\n",
        "plt.xlabel('Total Funds')  # Label the x-axis as 'Total Funds'\n",
        "plt.ylabel('Frequency')  # Label the y-axis as 'Frequency'\n",
        "plt.show()  # Display the plot\n",
        "\n"
      ],
      "metadata": {
        "colab": {
          "base_uri": "https://localhost:8080/",
          "height": 421
        },
        "id": "fxOgQDlfhQbT",
        "outputId": "324b66f4-176b-44ce-8913-a502a5136fdc"
      },
      "execution_count": null,
      "outputs": [
        {
          "output_type": "display_data",
          "data": {
            "text/plain": [
              "<Figure size 1200x600 with 1 Axes>"
            ],
            "image/png": "[encoded data removed]"
          },
          "metadata": {}
        }
      ]
    },
    {
      "cell_type": "markdown",
      "source": [
        "**Scatter Plot with Regression Line**"
      ],
      "metadata": {
        "id": "047FeC8khlzL"
      }
    },
    {
      "cell_type": "code",
      "source": [
        "import seaborn as sns\n",
        "import pandas as pd\n",
        "\n",
        "# Load the stock data\n",
        "url = 'https://raw.githubusercontent.com/datasets/investor-flow-of-funds-us/master/data/weekly.csv'\n",
        "df = pd.read_csv(url)\n",
        "\n",
        "# Create a scatter plot with regression line\n",
        "plt.figure(figsize=(12, 6))\n",
        "sns.regplot(x='Total Bond', y='Total', data=df)\n",
        "plt.title('Total Bond vs Total Funds')\n",
        "plt.xlabel('Total Bond')\n",
        "plt.ylabel('Total Funds')\n",
        "plt.show()\n"
      ],
      "metadata": {
        "colab": {
          "base_uri": "https://localhost:8080/",
          "height": 397
        },
        "id": "9VRMYWJfhm6J",
        "outputId": "a3d6b55a-751e-4495-fe82-60a6394e69ce"
      },
      "execution_count": null,
      "outputs": [
        {
          "output_type": "display_data",
          "data": {
            "text/plain": [
              "<Figure size 1200x600 with 1 Axes>"
            ],
            "image/png": "[encoded data removed]"
          },
          "metadata": {}
        }
      ]
    },
    {
      "cell_type": "markdown",
      "source": [
        "**Box Plot of Monthly Total Funds**"
      ],
      "metadata": {
        "id": "gszWb7uLhqjy"
      }
    },
    {
      "cell_type": "code",
      "source": [
        "import seaborn as sns\n",
        "import pandas as pd\n",
        "\n",
        "# Load the stock data\n",
        "url = 'https://raw.githubusercontent.com/datasets/investor-flow-of-funds-us/master/data/weekly.csv'\n",
        "df = pd.read_csv(url)\n",
        "\n",
        "# Extract month from the Date column\n",
        "df['Month'] = pd.to_datetime(df['Date']).dt.month\n",
        "\n",
        "# Create a box plot of total funds by month\n",
        "plt.figure(figsize=(12, 6))\n",
        "sns.boxplot(x='Month', y='Total', data=df)\n",
        "plt.title('Monthly Distribution of Total Funds')\n",
        "plt.xlabel('Month')\n",
        "plt.ylabel('Total Funds')\n",
        "plt.show()\n"
      ],
      "metadata": {
        "colab": {
          "base_uri": "https://localhost:8080/",
          "height": 403
        },
        "id": "bu-vczPShsr_",
        "outputId": "050442be-78cb-4448-bdb8-90e58cf341bc"
      },
      "execution_count": null,
      "outputs": [
        {
          "output_type": "display_data",
          "data": {
            "text/plain": [
              "<Figure size 1200x600 with 1 Axes>"
            ],
            "image/png": "[encoded data removed]"
          },
          "metadata": {}
        }
      ]
    }
  ]
}